{
 "cells": [
  {
   "cell_type": "code",
   "execution_count": 9,
   "id": "18b1cafe",
   "metadata": {},
   "outputs": [],
   "source": [
    "from llama_stack_client import LlamaStackClient"
   ]
  },
  {
   "cell_type": "code",
   "execution_count": 10,
   "id": "4c29b8a7",
   "metadata": {},
   "outputs": [
    {
     "name": "stderr",
     "output_type": "stream",
     "text": [
      "INFO:httpx:HTTP Request: GET http://localhost:8321/v1/models \"HTTP/1.1 200 OK\"\n"
     ]
    },
    {
     "data": {
      "text/plain": [
       "[Model(identifier='accounts/fireworks/models/llama-guard-3-11b-vision', metadata={}, api_model_type='llm', provider_id='fireworks', type='model', provider_resource_id='accounts/fireworks/models/llama-guard-3-11b-vision', model_type='llm'),\n",
       " Model(identifier='accounts/fireworks/models/llama-guard-3-8b', metadata={}, api_model_type='llm', provider_id='fireworks', type='model', provider_resource_id='accounts/fireworks/models/llama-guard-3-8b', model_type='llm'),\n",
       " Model(identifier='accounts/fireworks/models/llama-v3p1-405b-instruct', metadata={}, api_model_type='llm', provider_id='fireworks', type='model', provider_resource_id='accounts/fireworks/models/llama-v3p1-405b-instruct', model_type='llm'),\n",
       " Model(identifier='accounts/fireworks/models/llama-v3p1-70b-instruct', metadata={}, api_model_type='llm', provider_id='fireworks', type='model', provider_resource_id='accounts/fireworks/models/llama-v3p1-70b-instruct', model_type='llm'),\n",
       " Model(identifier='accounts/fireworks/models/llama-v3p1-8b-instruct', metadata={}, api_model_type='llm', provider_id='fireworks', type='model', provider_resource_id='accounts/fireworks/models/llama-v3p1-8b-instruct', model_type='llm'),\n",
       " Model(identifier='accounts/fireworks/models/llama-v3p2-11b-vision-instruct', metadata={}, api_model_type='llm', provider_id='fireworks', type='model', provider_resource_id='accounts/fireworks/models/llama-v3p2-11b-vision-instruct', model_type='llm'),\n",
       " Model(identifier='accounts/fireworks/models/llama-v3p2-3b-instruct', metadata={}, api_model_type='llm', provider_id='fireworks', type='model', provider_resource_id='accounts/fireworks/models/llama-v3p2-3b-instruct', model_type='llm'),\n",
       " Model(identifier='accounts/fireworks/models/llama-v3p2-90b-vision-instruct', metadata={}, api_model_type='llm', provider_id='fireworks', type='model', provider_resource_id='accounts/fireworks/models/llama-v3p2-90b-vision-instruct', model_type='llm'),\n",
       " Model(identifier='accounts/fireworks/models/llama-v3p3-70b-instruct', metadata={}, api_model_type='llm', provider_id='fireworks', type='model', provider_resource_id='accounts/fireworks/models/llama-v3p3-70b-instruct', model_type='llm'),\n",
       " Model(identifier='accounts/fireworks/models/llama4-maverick-instruct-basic', metadata={}, api_model_type='llm', provider_id='fireworks', type='model', provider_resource_id='accounts/fireworks/models/llama4-maverick-instruct-basic', model_type='llm'),\n",
       " Model(identifier='accounts/fireworks/models/llama4-scout-instruct-basic', metadata={}, api_model_type='llm', provider_id='fireworks', type='model', provider_resource_id='accounts/fireworks/models/llama4-scout-instruct-basic', model_type='llm'),\n",
       " Model(identifier='all-MiniLM-L6-v2', metadata={'embedding_dimension': 384.0}, api_model_type='embedding', provider_id='sentence-transformers', type='model', provider_resource_id='all-MiniLM-L6-v2', model_type='embedding'),\n",
       " Model(identifier='anthropic/claude-3-5-haiku-latest', metadata={}, api_model_type='llm', provider_id='anthropic', type='model', provider_resource_id='anthropic/claude-3-5-haiku-latest', model_type='llm'),\n",
       " Model(identifier='anthropic/claude-3-5-sonnet-latest', metadata={}, api_model_type='llm', provider_id='anthropic', type='model', provider_resource_id='anthropic/claude-3-5-sonnet-latest', model_type='llm'),\n",
       " Model(identifier='anthropic/claude-3-7-sonnet-latest', metadata={}, api_model_type='llm', provider_id='anthropic', type='model', provider_resource_id='anthropic/claude-3-7-sonnet-latest', model_type='llm'),\n",
       " Model(identifier='anthropic/voyage-3', metadata={'embedding_dimension': 1024.0, 'context_length': 32000.0}, api_model_type='embedding', provider_id='anthropic', type='model', provider_resource_id='anthropic/voyage-3', model_type='embedding'),\n",
       " Model(identifier='anthropic/voyage-3-lite', metadata={'embedding_dimension': 512.0, 'context_length': 32000.0}, api_model_type='embedding', provider_id='anthropic', type='model', provider_resource_id='anthropic/voyage-3-lite', model_type='embedding'),\n",
       " Model(identifier='anthropic/voyage-code-3', metadata={'embedding_dimension': 1024.0, 'context_length': 32000.0}, api_model_type='embedding', provider_id='anthropic', type='model', provider_resource_id='anthropic/voyage-code-3', model_type='embedding'),\n",
       " Model(identifier='fireworks/meta-llama/Llama-3.1-405B-Instruct-FP8', metadata={}, api_model_type='llm', provider_id='fireworks', type='model', provider_resource_id='accounts/fireworks/models/llama-v3p1-405b-instruct', model_type='llm'),\n",
       " Model(identifier='fireworks/meta-llama/Llama-3.1-70B-Instruct', metadata={}, api_model_type='llm', provider_id='fireworks', type='model', provider_resource_id='accounts/fireworks/models/llama-v3p1-70b-instruct', model_type='llm'),\n",
       " Model(identifier='fireworks/meta-llama/Llama-3.1-8B-Instruct', metadata={}, api_model_type='llm', provider_id='fireworks', type='model', provider_resource_id='accounts/fireworks/models/llama-v3p1-8b-instruct', model_type='llm'),\n",
       " Model(identifier='fireworks/meta-llama/Llama-3.2-11B-Vision-Instruct', metadata={}, api_model_type='llm', provider_id='fireworks', type='model', provider_resource_id='accounts/fireworks/models/llama-v3p2-11b-vision-instruct', model_type='llm'),\n",
       " Model(identifier='fireworks/meta-llama/Llama-3.2-3B-Instruct', metadata={}, api_model_type='llm', provider_id='fireworks', type='model', provider_resource_id='accounts/fireworks/models/llama-v3p2-3b-instruct', model_type='llm'),\n",
       " Model(identifier='fireworks/meta-llama/Llama-3.2-90B-Vision-Instruct', metadata={}, api_model_type='llm', provider_id='fireworks', type='model', provider_resource_id='accounts/fireworks/models/llama-v3p2-90b-vision-instruct', model_type='llm'),\n",
       " Model(identifier='fireworks/meta-llama/Llama-3.3-70B-Instruct', metadata={}, api_model_type='llm', provider_id='fireworks', type='model', provider_resource_id='accounts/fireworks/models/llama-v3p3-70b-instruct', model_type='llm'),\n",
       " Model(identifier='fireworks/meta-llama/Llama-4-Maverick-17B-128E-Instruct', metadata={}, api_model_type='llm', provider_id='fireworks', type='model', provider_resource_id='accounts/fireworks/models/llama4-maverick-instruct-basic', model_type='llm'),\n",
       " Model(identifier='fireworks/meta-llama/Llama-4-Scout-17B-16E-Instruct', metadata={}, api_model_type='llm', provider_id='fireworks', type='model', provider_resource_id='accounts/fireworks/models/llama4-scout-instruct-basic', model_type='llm'),\n",
       " Model(identifier='fireworks/meta-llama/Llama-Guard-3-11B-Vision', metadata={}, api_model_type='llm', provider_id='fireworks', type='model', provider_resource_id='accounts/fireworks/models/llama-guard-3-11b-vision', model_type='llm'),\n",
       " Model(identifier='fireworks/meta-llama/Llama-Guard-3-8B', metadata={}, api_model_type='llm', provider_id='fireworks', type='model', provider_resource_id='accounts/fireworks/models/llama-guard-3-8b', model_type='llm'),\n",
       " Model(identifier='fireworks/nomic-ai/nomic-embed-text-v1.5', metadata={'embedding_dimension': 768.0, 'context_length': 8192.0}, api_model_type='embedding', provider_id='fireworks', type='model', provider_resource_id='nomic-ai/nomic-embed-text-v1.5', model_type='embedding'),\n",
       " Model(identifier='gemini/gemini-1.5-flash', metadata={}, api_model_type='llm', provider_id='gemini', type='model', provider_resource_id='gemini/gemini-1.5-flash', model_type='llm'),\n",
       " Model(identifier='gemini/gemini-1.5-pro', metadata={}, api_model_type='llm', provider_id='gemini', type='model', provider_resource_id='gemini/gemini-1.5-pro', model_type='llm'),\n",
       " Model(identifier='gemini/gemini-2.0-flash', metadata={}, api_model_type='llm', provider_id='gemini', type='model', provider_resource_id='gemini/gemini-2.0-flash', model_type='llm'),\n",
       " Model(identifier='gemini/gemini-2.5-flash', metadata={}, api_model_type='llm', provider_id='gemini', type='model', provider_resource_id='gemini/gemini-2.5-flash', model_type='llm'),\n",
       " Model(identifier='gemini/gemini-2.5-pro', metadata={}, api_model_type='llm', provider_id='gemini', type='model', provider_resource_id='gemini/gemini-2.5-pro', model_type='llm'),\n",
       " Model(identifier='gemini/text-embedding-004', metadata={'embedding_dimension': 768.0, 'context_length': 2048.0}, api_model_type='embedding', provider_id='gemini', type='model', provider_resource_id='gemini/text-embedding-004', model_type='embedding'),\n",
       " Model(identifier='groq/llama-3.1-8b-instant', metadata={}, api_model_type='llm', provider_id='groq', type='model', provider_resource_id='groq/llama-3.1-8b-instant', model_type='llm'),\n",
       " Model(identifier='groq/llama-3.2-3b-preview', metadata={}, api_model_type='llm', provider_id='groq', type='model', provider_resource_id='groq/llama-3.2-3b-preview', model_type='llm'),\n",
       " Model(identifier='groq/llama-3.3-70b-versatile', metadata={}, api_model_type='llm', provider_id='groq', type='model', provider_resource_id='groq/llama-3.3-70b-versatile', model_type='llm'),\n",
       " Model(identifier='groq/llama-4-maverick-17b-128e-instruct', metadata={}, api_model_type='llm', provider_id='groq', type='model', provider_resource_id='groq/llama-4-maverick-17b-128e-instruct', model_type='llm'),\n",
       " Model(identifier='groq/llama-4-scout-17b-16e-instruct', metadata={}, api_model_type='llm', provider_id='groq', type='model', provider_resource_id='groq/llama-4-scout-17b-16e-instruct', model_type='llm'),\n",
       " Model(identifier='groq/llama3-70b-8192', metadata={}, api_model_type='llm', provider_id='groq', type='model', provider_resource_id='groq/llama3-70b-8192', model_type='llm'),\n",
       " Model(identifier='groq/llama3-8b-8192', metadata={}, api_model_type='llm', provider_id='groq', type='model', provider_resource_id='groq/llama3-8b-8192', model_type='llm'),\n",
       " Model(identifier='groq/meta-llama/Llama-3-70B-Instruct', metadata={}, api_model_type='llm', provider_id='groq', type='model', provider_resource_id='groq/llama3-70b-8192', model_type='llm'),\n",
       " Model(identifier='groq/meta-llama/Llama-3.1-8B-Instruct', metadata={}, api_model_type='llm', provider_id='groq', type='model', provider_resource_id='groq/llama3-8b-8192', model_type='llm'),\n",
       " Model(identifier='groq/meta-llama/Llama-3.2-3B-Instruct', metadata={}, api_model_type='llm', provider_id='groq', type='model', provider_resource_id='groq/llama-3.2-3b-preview', model_type='llm'),\n",
       " Model(identifier='groq/meta-llama/Llama-3.3-70B-Instruct', metadata={}, api_model_type='llm', provider_id='groq', type='model', provider_resource_id='groq/llama-3.3-70b-versatile', model_type='llm'),\n",
       " Model(identifier='groq/meta-llama/Llama-4-Maverick-17B-128E-Instruct', metadata={}, api_model_type='llm', provider_id='groq', type='model', provider_resource_id='groq/llama-4-maverick-17b-128e-instruct', model_type='llm'),\n",
       " Model(identifier='groq/meta-llama/Llama-4-Scout-17B-16E-Instruct', metadata={}, api_model_type='llm', provider_id='groq', type='model', provider_resource_id='groq/llama-4-scout-17b-16e-instruct', model_type='llm'),\n",
       " Model(identifier='groq/meta-llama/llama-4-maverick-17b-128e-instruct', metadata={}, api_model_type='llm', provider_id='groq', type='model', provider_resource_id='groq/meta-llama/llama-4-maverick-17b-128e-instruct', model_type='llm'),\n",
       " Model(identifier='groq/meta-llama/llama-4-scout-17b-16e-instruct', metadata={}, api_model_type='llm', provider_id='groq', type='model', provider_resource_id='groq/meta-llama/llama-4-scout-17b-16e-instruct', model_type='llm'),\n",
       " Model(identifier='ollama/llama3.2:3b', metadata={}, api_model_type='llm', provider_id='ollama', type='model', provider_resource_id='llama3.2:3b', model_type='llm'),\n",
       " Model(identifier='openai/chatgpt-4o-latest', metadata={}, api_model_type='llm', provider_id='openai', type='model', provider_resource_id='openai/chatgpt-4o-latest', model_type='llm'),\n",
       " Model(identifier='openai/gpt-3.5-turbo', metadata={}, api_model_type='llm', provider_id='openai', type='model', provider_resource_id='gpt-3.5-turbo', model_type='llm'),\n",
       " Model(identifier='openai/gpt-3.5-turbo-0125', metadata={}, api_model_type='llm', provider_id='openai', type='model', provider_resource_id='gpt-3.5-turbo-0125', model_type='llm'),\n",
       " Model(identifier='openai/gpt-3.5-turbo-instruct', metadata={}, api_model_type='llm', provider_id='openai', type='model', provider_resource_id='gpt-3.5-turbo-instruct', model_type='llm'),\n",
       " Model(identifier='openai/gpt-4', metadata={}, api_model_type='llm', provider_id='openai', type='model', provider_resource_id='gpt-4', model_type='llm'),\n",
       " Model(identifier='openai/gpt-4-turbo', metadata={}, api_model_type='llm', provider_id='openai', type='model', provider_resource_id='gpt-4-turbo', model_type='llm'),\n",
       " Model(identifier='openai/gpt-4o', metadata={}, api_model_type='llm', provider_id='openai', type='model', provider_resource_id='openai/gpt-4o', model_type='llm'),\n",
       " Model(identifier='openai/gpt-4o-2024-08-06', metadata={}, api_model_type='llm', provider_id='openai', type='model', provider_resource_id='gpt-4o-2024-08-06', model_type='llm'),\n",
       " Model(identifier='openai/gpt-4o-audio-preview', metadata={}, api_model_type='llm', provider_id='openai', type='model', provider_resource_id='gpt-4o-audio-preview', model_type='llm'),\n",
       " Model(identifier='openai/gpt-4o-mini', metadata={}, api_model_type='llm', provider_id='openai', type='model', provider_resource_id='openai/gpt-4o-mini', model_type='llm'),\n",
       " Model(identifier='openai/o1', metadata={}, api_model_type='llm', provider_id='openai', type='model', provider_resource_id='o1', model_type='llm'),\n",
       " Model(identifier='openai/o1-mini', metadata={}, api_model_type='llm', provider_id='openai', type='model', provider_resource_id='o1-mini', model_type='llm'),\n",
       " Model(identifier='openai/o3-mini', metadata={}, api_model_type='llm', provider_id='openai', type='model', provider_resource_id='o3-mini', model_type='llm'),\n",
       " Model(identifier='openai/o4-mini', metadata={}, api_model_type='llm', provider_id='openai', type='model', provider_resource_id='o4-mini', model_type='llm'),\n",
       " Model(identifier='openai/openai/chatgpt-4o-latest', metadata={}, api_model_type='llm', provider_id='openai', type='model', provider_resource_id='openai/chatgpt-4o-latest', model_type='llm'),\n",
       " Model(identifier='openai/openai/gpt-4o', metadata={}, api_model_type='llm', provider_id='openai', type='model', provider_resource_id='openai/gpt-4o', model_type='llm'),\n",
       " Model(identifier='openai/openai/gpt-4o-mini', metadata={}, api_model_type='llm', provider_id='openai', type='model', provider_resource_id='openai/gpt-4o-mini', model_type='llm'),\n",
       " Model(identifier='openai/text-embedding-3-large', metadata={'embedding_dimension': 3072.0, 'context_length': 8192.0}, api_model_type='embedding', provider_id='openai', type='model', provider_resource_id='openai/text-embedding-3-large', model_type='embedding'),\n",
       " Model(identifier='openai/text-embedding-3-small', metadata={'embedding_dimension': 1536.0, 'context_length': 8192.0}, api_model_type='embedding', provider_id='openai', type='model', provider_resource_id='openai/text-embedding-3-small', model_type='embedding'),\n",
       " Model(identifier='sambanova/Llama-3.2-11B-Vision-Instruct', metadata={}, api_model_type='llm', provider_id='sambanova', type='model', provider_resource_id='sambanova/Llama-3.2-11B-Vision-Instruct', model_type='llm'),\n",
       " Model(identifier='sambanova/Llama-3.2-90B-Vision-Instruct', metadata={}, api_model_type='llm', provider_id='sambanova', type='model', provider_resource_id='sambanova/Llama-3.2-90B-Vision-Instruct', model_type='llm'),\n",
       " Model(identifier='sambanova/Llama-4-Maverick-17B-128E-Instruct', metadata={}, api_model_type='llm', provider_id='sambanova', type='model', provider_resource_id='sambanova/Llama-4-Maverick-17B-128E-Instruct', model_type='llm'),\n",
       " Model(identifier='sambanova/Llama-4-Scout-17B-16E-Instruct', metadata={}, api_model_type='llm', provider_id='sambanova', type='model', provider_resource_id='sambanova/Llama-4-Scout-17B-16E-Instruct', model_type='llm'),\n",
       " Model(identifier='sambanova/Meta-Llama-3.1-405B-Instruct', metadata={}, api_model_type='llm', provider_id='sambanova', type='model', provider_resource_id='sambanova/Meta-Llama-3.1-405B-Instruct', model_type='llm'),\n",
       " Model(identifier='sambanova/Meta-Llama-3.1-8B-Instruct', metadata={}, api_model_type='llm', provider_id='sambanova', type='model', provider_resource_id='sambanova/Meta-Llama-3.1-8B-Instruct', model_type='llm'),\n",
       " Model(identifier='sambanova/Meta-Llama-3.2-1B-Instruct', metadata={}, api_model_type='llm', provider_id='sambanova', type='model', provider_resource_id='sambanova/Meta-Llama-3.2-1B-Instruct', model_type='llm'),\n",
       " Model(identifier='sambanova/Meta-Llama-3.2-3B-Instruct', metadata={}, api_model_type='llm', provider_id='sambanova', type='model', provider_resource_id='sambanova/Meta-Llama-3.2-3B-Instruct', model_type='llm'),\n",
       " Model(identifier='sambanova/Meta-Llama-3.3-70B-Instruct', metadata={}, api_model_type='llm', provider_id='sambanova', type='model', provider_resource_id='sambanova/Meta-Llama-3.3-70B-Instruct', model_type='llm'),\n",
       " Model(identifier='sambanova/Meta-Llama-Guard-3-8B', metadata={}, api_model_type='llm', provider_id='sambanova', type='model', provider_resource_id='sambanova/Meta-Llama-Guard-3-8B', model_type='llm'),\n",
       " Model(identifier='sambanova/meta-llama/Llama-3.1-405B-Instruct-FP8', metadata={}, api_model_type='llm', provider_id='sambanova', type='model', provider_resource_id='sambanova/Meta-Llama-3.1-405B-Instruct', model_type='llm'),\n",
       " Model(identifier='sambanova/meta-llama/Llama-3.1-8B-Instruct', metadata={}, api_model_type='llm', provider_id='sambanova', type='model', provider_resource_id='sambanova/Meta-Llama-3.1-8B-Instruct', model_type='llm'),\n",
       " Model(identifier='sambanova/meta-llama/Llama-3.2-11B-Vision-Instruct', metadata={}, api_model_type='llm', provider_id='sambanova', type='model', provider_resource_id='sambanova/Llama-3.2-11B-Vision-Instruct', model_type='llm'),\n",
       " Model(identifier='sambanova/meta-llama/Llama-3.2-1B-Instruct', metadata={}, api_model_type='llm', provider_id='sambanova', type='model', provider_resource_id='sambanova/Meta-Llama-3.2-1B-Instruct', model_type='llm'),\n",
       " Model(identifier='sambanova/meta-llama/Llama-3.2-3B-Instruct', metadata={}, api_model_type='llm', provider_id='sambanova', type='model', provider_resource_id='sambanova/Meta-Llama-3.2-3B-Instruct', model_type='llm'),\n",
       " Model(identifier='sambanova/meta-llama/Llama-3.2-90B-Vision-Instruct', metadata={}, api_model_type='llm', provider_id='sambanova', type='model', provider_resource_id='sambanova/Llama-3.2-90B-Vision-Instruct', model_type='llm'),\n",
       " Model(identifier='sambanova/meta-llama/Llama-3.3-70B-Instruct', metadata={}, api_model_type='llm', provider_id='sambanova', type='model', provider_resource_id='sambanova/Meta-Llama-3.3-70B-Instruct', model_type='llm'),\n",
       " Model(identifier='sambanova/meta-llama/Llama-4-Maverick-17B-128E-Instruct', metadata={}, api_model_type='llm', provider_id='sambanova', type='model', provider_resource_id='sambanova/Llama-4-Maverick-17B-128E-Instruct', model_type='llm'),\n",
       " Model(identifier='sambanova/meta-llama/Llama-4-Scout-17B-16E-Instruct', metadata={}, api_model_type='llm', provider_id='sambanova', type='model', provider_resource_id='sambanova/Llama-4-Scout-17B-16E-Instruct', model_type='llm'),\n",
       " Model(identifier='sambanova/meta-llama/Llama-Guard-3-8B', metadata={}, api_model_type='llm', provider_id='sambanova', type='model', provider_resource_id='sambanova/Meta-Llama-Guard-3-8B', model_type='llm'),\n",
       " Model(identifier='sentence-transformers/all-MiniLM-L6-v2', metadata={'embedding_dimension': 384.0}, api_model_type='embedding', provider_id='sentence-transformers', type='model', provider_resource_id='all-MiniLM-L6-v2', model_type='embedding'),\n",
       " Model(identifier='together/meta-llama/Llama-3.1-405B-Instruct-FP8', metadata={}, api_model_type='llm', provider_id='together', type='model', provider_resource_id='meta-llama/Meta-Llama-3.1-405B-Instruct-Turbo', model_type='llm'),\n",
       " Model(identifier='together/meta-llama/Llama-3.1-70B-Instruct', metadata={}, api_model_type='llm', provider_id='together', type='model', provider_resource_id='meta-llama/Meta-Llama-3.1-70B-Instruct-Turbo', model_type='llm'),\n",
       " Model(identifier='together/meta-llama/Llama-3.1-8B-Instruct', metadata={}, api_model_type='llm', provider_id='together', type='model', provider_resource_id='meta-llama/Meta-Llama-3.1-8B-Instruct-Turbo', model_type='llm'),\n",
       " Model(identifier='together/meta-llama/Llama-3.2-11B-Vision-Instruct', metadata={}, api_model_type='llm', provider_id='together', type='model', provider_resource_id='meta-llama/Llama-3.2-11B-Vision-Instruct-Turbo', model_type='llm'),\n",
       " Model(identifier='together/meta-llama/Llama-3.2-11B-Vision-Instruct-Turbo', metadata={}, api_model_type='llm', provider_id='together', type='model', provider_resource_id='meta-llama/Llama-3.2-11B-Vision-Instruct-Turbo', model_type='llm'),\n",
       " Model(identifier='together/meta-llama/Llama-3.2-3B-Instruct', metadata={}, api_model_type='llm', provider_id='together', type='model', provider_resource_id='meta-llama/Llama-3.2-3B-Instruct-Turbo', model_type='llm'),\n",
       " Model(identifier='together/meta-llama/Llama-3.2-3B-Instruct-Turbo', metadata={}, api_model_type='llm', provider_id='together', type='model', provider_resource_id='meta-llama/Llama-3.2-3B-Instruct-Turbo', model_type='llm'),\n",
       " Model(identifier='together/meta-llama/Llama-3.2-90B-Vision-Instruct', metadata={}, api_model_type='llm', provider_id='together', type='model', provider_resource_id='meta-llama/Llama-3.2-90B-Vision-Instruct-Turbo', model_type='llm'),\n",
       " Model(identifier='together/meta-llama/Llama-3.2-90B-Vision-Instruct-Turbo', metadata={}, api_model_type='llm', provider_id='together', type='model', provider_resource_id='meta-llama/Llama-3.2-90B-Vision-Instruct-Turbo', model_type='llm'),\n",
       " Model(identifier='together/meta-llama/Llama-3.3-70B-Instruct', metadata={}, api_model_type='llm', provider_id='together', type='model', provider_resource_id='meta-llama/Llama-3.3-70B-Instruct-Turbo', model_type='llm'),\n",
       " Model(identifier='together/meta-llama/Llama-3.3-70B-Instruct-Turbo', metadata={}, api_model_type='llm', provider_id='together', type='model', provider_resource_id='meta-llama/Llama-3.3-70B-Instruct-Turbo', model_type='llm'),\n",
       " Model(identifier='together/meta-llama/Llama-4-Maverick-17B-128E-Instruct', metadata={}, api_model_type='llm', provider_id='together', type='model', provider_resource_id='meta-llama/Llama-4-Maverick-17B-128E-Instruct-FP8', model_type='llm'),\n",
       " Model(identifier='together/meta-llama/Llama-4-Maverick-17B-128E-Instruct-FP8', metadata={}, api_model_type='llm', provider_id='together', type='model', provider_resource_id='meta-llama/Llama-4-Maverick-17B-128E-Instruct-FP8', model_type='llm'),\n",
       " Model(identifier='together/meta-llama/Llama-4-Scout-17B-16E-Instruct', metadata={}, api_model_type='llm', provider_id='together', type='model', provider_resource_id='meta-llama/Llama-4-Scout-17B-16E-Instruct', model_type='llm'),\n",
       " Model(identifier='together/meta-llama/Llama-Guard-3-11B-Vision', metadata={}, api_model_type='llm', provider_id='together', type='model', provider_resource_id='meta-llama/Llama-Guard-3-11B-Vision-Turbo', model_type='llm'),\n",
       " Model(identifier='together/meta-llama/Llama-Guard-3-11B-Vision-Turbo', metadata={}, api_model_type='llm', provider_id='together', type='model', provider_resource_id='meta-llama/Llama-Guard-3-11B-Vision-Turbo', model_type='llm'),\n",
       " Model(identifier='together/meta-llama/Llama-Guard-3-8B', metadata={}, api_model_type='llm', provider_id='together', type='model', provider_resource_id='meta-llama/Meta-Llama-Guard-3-8B', model_type='llm'),\n",
       " Model(identifier='together/meta-llama/Meta-Llama-3.1-405B-Instruct-Turbo', metadata={}, api_model_type='llm', provider_id='together', type='model', provider_resource_id='meta-llama/Meta-Llama-3.1-405B-Instruct-Turbo', model_type='llm'),\n",
       " Model(identifier='together/meta-llama/Meta-Llama-3.1-70B-Instruct-Turbo', metadata={}, api_model_type='llm', provider_id='together', type='model', provider_resource_id='meta-llama/Meta-Llama-3.1-70B-Instruct-Turbo', model_type='llm'),\n",
       " Model(identifier='together/meta-llama/Meta-Llama-3.1-8B-Instruct-Turbo', metadata={}, api_model_type='llm', provider_id='together', type='model', provider_resource_id='meta-llama/Meta-Llama-3.1-8B-Instruct-Turbo', model_type='llm'),\n",
       " Model(identifier='together/meta-llama/Meta-Llama-Guard-3-8B', metadata={}, api_model_type='llm', provider_id='together', type='model', provider_resource_id='meta-llama/Meta-Llama-Guard-3-8B', model_type='llm'),\n",
       " Model(identifier='togethercomputer/m2-bert-80M-32k-retrieval', metadata={'embedding_dimension': 768.0, 'context_length': 32768.0}, api_model_type='embedding', provider_id='together', type='model', provider_resource_id='togethercomputer/m2-bert-80M-32k-retrieval', model_type='embedding'),\n",
       " Model(identifier='togethercomputer/m2-bert-80M-8k-retrieval', metadata={'embedding_dimension': 768.0, 'context_length': 8192.0}, api_model_type='embedding', provider_id='together', type='model', provider_resource_id='togethercomputer/m2-bert-80M-8k-retrieval', model_type='embedding'),\n",
       " Model(identifier='ollama/qwen2:7b', metadata={}, api_model_type='llm', provider_id='ollama', type='model', provider_resource_id='qwen2:7b', model_type='llm'),\n",
       " Model(identifier='ollama/all-minilm:latest', metadata={}, api_model_type='llm', provider_id='ollama', type='model', provider_resource_id='all-minilm:latest', model_type='llm'),\n",
       " Model(identifier='ollama/llama3:70b', metadata={}, api_model_type='llm', provider_id='ollama', type='model', provider_resource_id='llama3:70b', model_type='llm'),\n",
       " Model(identifier='bedrock/meta.llama3-1-8b-instruct-v1:0', metadata={}, api_model_type='llm', provider_id='bedrock', type='model', provider_resource_id='meta.llama3-1-8b-instruct-v1:0', model_type='llm'),\n",
       " Model(identifier='bedrock/meta.llama3-1-70b-instruct-v1:0', metadata={}, api_model_type='llm', provider_id='bedrock', type='model', provider_resource_id='meta.llama3-1-70b-instruct-v1:0', model_type='llm'),\n",
       " Model(identifier='bedrock/meta.llama3-1-405b-instruct-v1:0', metadata={}, api_model_type='llm', provider_id='bedrock', type='model', provider_resource_id='meta.llama3-1-405b-instruct-v1:0', model_type='llm')]"
      ]
     },
     "execution_count": 10,
     "metadata": {},
     "output_type": "execute_result"
    }
   ],
   "source": [
    "client = LlamaStackClient(\n",
    "  base_url=\"http://localhost:8321\"\n",
    ")\n",
    "client.models.list()"
   ]
  },
  {
   "cell_type": "code",
   "execution_count": 12,
   "id": "5d386779",
   "metadata": {},
   "outputs": [
    {
     "name": "stderr",
     "output_type": "stream",
     "text": [
      "INFO:httpx:HTTP Request: POST http://localhost:8321/v1/openai/v1/chat/completions \"HTTP/1.1 200 OK\"\n"
     ]
    }
   ],
   "source": [
    "\n",
    "\n",
    "response = client.chat.completions.create(\n",
    "  model=\"llama3.2:3b\",\n",
    "  messages=[{\n",
    "    \"role\": \"user\",\n",
    "    \"content\": \"What is machine learning?\"\n",
    "  }]\n",
    ")"
   ]
  },
  {
   "cell_type": "code",
   "execution_count": 13,
   "id": "4f8fe1d5",
   "metadata": {},
   "outputs": [
    {
     "name": "stdout",
     "output_type": "stream",
     "text": [
      "OpenAIChatCompletion(id='chatcmpl-137', choices=[OpenAIChatCompletionChoice(finish_reason='stop', index=0, message=OpenAIChatCompletionChoiceMessageOpenAIAssistantMessageParam(role='assistant', content='Machine learning (ML) is a subset of artificial intelligence (AI) that enables systems to automatically learn and improve from data without being explicitly programmed. The goal of ML is to enable machines to make predictions, classify objects, or perform tasks based on patterns and relationships learned from large datasets.\\n\\nThere are several types of machine learning algorithms, including:\\n\\n1. **Supervised Learning**: This type of learning involves training the model on labeled data, where the correct output is already known. The goal is to learn a mapping between input data and labels, so the model can make accurate predictions on new, unseen data.\\n2. **Unsupervised Learning**: In this type of learning, the model is trained on unlabeled data, and it must find patterns or structure in the data on its own.\\n3. **Reinforcement Learning**: This type of learning involves training the model through trial and error by interacting with an environment that provides feedback.\\n\\nMachine learning algorithms typically involve the following steps:\\n\\n1. **Data Collection**: Gathering a large dataset relevant to the problem you want to solve.\\n2. **Data Preprocessing**: Cleaning, transforming, and preparing the data for use in the algorithm.\\n3. **Model Training**: Using training data to learn the pattern or relationship between inputs and outputs.\\n4. **Model Evaluation**: Assessing the performance of the trained model on a separate testing dataset.\\n5. **Deployment**: Deploying the trained model in a production environment, where it can make predictions or take actions based on new data.\\n\\nMachine learning has many applications, including:\\n\\n1. **Image Classification** (e.g., facial recognition, object detection)\\n2. **Natural Language Processing** (e.g., text analysis, language translation)\\n3. **Predictive Modeling** (e.g., forecasting sales, predicting customer behavior)\\n4. **Recommendation Systems** (e.g., personalized product suggestions)\\n\\nSome of the benefits of machine learning include:\\n\\n1. **Improved Accuracy**: By learning from large datasets, models can make predictions or perform tasks with high accuracy.\\n2. **Increased Efficiency**: Automated learning and improved performance can free up human resources for more strategic or creative work.\\n3. **Scalability**: Machine learning algorithms can handle large volumes of data and scale to meet the demands of complex applications.\\n\\nHowever, machine learning also has its challenges and limitations, such as:\\n\\n1. **Data Quality and Availability**: ML requires high-quality, diverse, and representative data to learn from.\\n2. **Explainability and Transparency**: Understanding how ML models work and why they make specific predictions or decisions can be challenging.\\n3. **Bias and Fairness**: ML models can inherit biases from the training data, leading to unfair outcomes for certain groups.\\n\\nBy understanding the fundamental concepts of machine learning, you can unlock the full potential of this powerful technology and create innovative applications that transform industries and improve lives.', name=None, tool_calls=None, refusal=None, annotations=None, audio=None, function_call=None), logprobs=None)], created=1759925269, model='llama3.2:3b', object='chat.completion', service_tier=None, system_fingerprint='fp_ollama', usage={'completion_tokens': 578, 'prompt_tokens': 30, 'total_tokens': 608, 'completion_tokens_details': None, 'prompt_tokens_details': None}, metrics=[{'trace_id': '688343e8cc6c2687a56ad4de2791c87f', 'span_id': 'a9f1aeda26e30c7e', 'timestamp': '2025-10-08T12:07:49.793277Z', 'attributes': {'model_id': 'ollama/llama3.2:3b', 'provider_id': 'ollama'}, 'type': 'metric', 'metric': 'prompt_tokens', 'value': 30, 'unit': 'tokens'}, {'trace_id': '688343e8cc6c2687a56ad4de2791c87f', 'span_id': 'a9f1aeda26e30c7e', 'timestamp': '2025-10-08T12:07:49.793292Z', 'attributes': {'model_id': 'ollama/llama3.2:3b', 'provider_id': 'ollama'}, 'type': 'metric', 'metric': 'completion_tokens', 'value': 578, 'unit': 'tokens'}, {'trace_id': '688343e8cc6c2687a56ad4de2791c87f', 'span_id': 'a9f1aeda26e30c7e', 'timestamp': '2025-10-08T12:07:49.793296Z', 'attributes': {'model_id': 'ollama/llama3.2:3b', 'provider_id': 'ollama'}, 'type': 'metric', 'metric': 'total_tokens', 'value': 608, 'unit': 'tokens'}])\n"
     ]
    }
   ],
   "source": [
    "print(response)"
   ]
  },
  {
   "cell_type": "code",
   "execution_count": null,
   "id": "cad7673b",
   "metadata": {},
   "outputs": [],
   "source": [
    "while True:\n",
    "    prompt = input(\"You: \")\n",
    "    if prompt.lower() in {\"exit\", \"quit\"}:\n",
    "        break\n",
    "    response = client.inference.chat_completion(\n",
    "        messages=[{\"role\": \"user\", \"content\": prompt}],\n",
    "        model_id=\"llama3.2:3b\"\n",
    "    )\n",
    "    print(\"Llama:\", response.completion_message.content)\n",
    "\n"
   ]
  },
  {
   "cell_type": "code",
   "execution_count": null,
   "id": "0b965c28",
   "metadata": {},
   "outputs": [],
   "source": []
  }
 ],
 "metadata": {
  "kernelspec": {
   "display_name": "rhbu-llama-stack-tutorial",
   "language": "python",
   "name": "python3"
  },
  "language_info": {
   "codemirror_mode": {
    "name": "ipython",
    "version": 3
   },
   "file_extension": ".py",
   "mimetype": "text/x-python",
   "name": "python",
   "nbconvert_exporter": "python",
   "pygments_lexer": "ipython3",
   "version": "3.12.8"
  }
 },
 "nbformat": 4,
 "nbformat_minor": 5
}
